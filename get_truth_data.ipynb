{
 "cells": [
  {
   "cell_type": "code",
   "execution_count": 7,
   "id": "2381ae31-c08f-4246-9112-700e3efac634",
   "metadata": {},
   "outputs": [],
   "source": [
    "import h5py\n",
    "import sys\n",
    "import numpy as np\n",
    "import matplotlib.pyplot as plt\n",
    "import os"
   ]
  },
  {
   "cell_type": "code",
   "execution_count": 9,
   "id": "0941d235-217a-4002-84fd-759559ee7729",
   "metadata": {},
   "outputs": [],
   "source": [
    "# run this for 1k test---------------------------\n",
    "\n",
    "m_mu = 105.7 #MeV\n",
    "energies=[]\n",
    "deposited_Es=[]\n",
    "ranges=[]\n",
    "path_lengths=[]\n",
    "evs=[]\n",
    "\n",
    "f = h5py.File('muon1000ev_0-1gev_edep.h5')\n",
    "\n",
    "trajs = f['trajectories']\n",
    "segs = f['segments']\n",
    "\n",
    "\n",
    "primary_mask_trajs = trajs['traj_id'] == 0\n",
    "muon_trajs = trajs[primary_mask_trajs] # primary muon trajectories only\n",
    "\n",
    "for traj in muon_trajs:\n",
    "    # getting event number\n",
    "    ev_n = traj['event_id']\n",
    "    evs.append(ev_n)\n",
    "    # print('----------')\n",
    "    # print(f'event: {ev_n}')\n",
    "\n",
    "    # getting energies\n",
    "    KE = traj['E_start'] - m_mu\n",
    "    energies.append(KE)\n",
    "\n",
    "    # getting naive length ---------------\n",
    "    start_vector = traj['xyz_start']\n",
    "    end_vector = traj['xyz_end']\n",
    "    distance_vector = np.subtract(end_vector, start_vector)\n",
    "    length = np.linalg.norm(distance_vector) *10 #mm\n",
    "    ranges.append(length)\n",
    "\n",
    "    # getting detailed length -------------\n",
    "    # getting segments in muon track only\n",
    "    ev_mask = segs['event_id'] == ev_n #ev_mask is a boolean array, true if that segment is in that trajectory\n",
    "    ev_segs = segs[ev_mask] #only segments in that event\n",
    "    primary_mask = ev_segs['traj_id'] == 0 \n",
    "    muon_segs = ev_segs[primary_mask] #only segments in primary muon track\n",
    "\n",
    "    path_length = 0\n",
    "    for seg in muon_segs:\n",
    "        path_length += seg['dx'] \n",
    "    path_lengths.append(path_length * 10)\n",
    "\n",
    "    # getting deposited energy\n",
    "    deposited_E = 0\n",
    "    for seg in muon_segs:\n",
    "        deposited_E += seg['dE']\n",
    "    deposited_Es.append(deposited_E)\n",
    "\n",
    "np.savez('test_muon_0-1gev_1k.npz', energies=energies, ranges=ranges, path_lengths=path_lengths, deposited_Es=deposited_Es)\n"
   ]
  },
  {
   "cell_type": "code",
   "execution_count": null,
   "id": "7c152db5-e56b-4a0e-b1fd-9e8ee378b80e",
   "metadata": {},
   "outputs": [],
   "source": []
  }
 ],
 "metadata": {
  "kernelspec": {
   "display_name": "Python 3 (ipykernel)",
   "language": "python",
   "name": "python3"
  },
  "language_info": {
   "codemirror_mode": {
    "name": "ipython",
    "version": 3
   },
   "file_extension": ".py",
   "mimetype": "text/x-python",
   "name": "python",
   "nbconvert_exporter": "python",
   "pygments_lexer": "ipython3",
   "version": "3.10.12"
  }
 },
 "nbformat": 4,
 "nbformat_minor": 5
}
